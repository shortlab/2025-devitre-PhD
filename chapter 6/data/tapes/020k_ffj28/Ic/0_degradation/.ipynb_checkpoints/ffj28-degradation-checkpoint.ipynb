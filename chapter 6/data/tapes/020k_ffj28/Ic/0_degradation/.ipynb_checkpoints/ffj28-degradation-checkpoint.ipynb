{
 "cells": [
  {
   "cell_type": "code",
   "execution_count": 1,
   "id": "13b59550",
   "metadata": {},
   "outputs": [
    {
     "name": "stdout",
     "output_type": "stream",
     "text": [
      "%pylab is deprecated, use %matplotlib inline and import the required libraries.\n",
      "Populating the interactive namespace from numpy and matplotlib\n"
     ]
    }
   ],
   "source": [
    "%pylab notebook\n",
    "\n",
    "import os, sys, pandas as pd\n",
    "sys.path.append('/Users/alexisdevitre/Documents/code/hts-irradiation/')\n",
    "\n",
    "import hts_fitting as hts\n",
    "import hts_showcase as sc\n",
    "\n",
    "def get_fluence_steps(fpath):\n",
    "    return pd.read_excel(fpath, sheet_name='fluence_steps', usecols=[0, 1, 2], names=['step', 'step_fluence', 'cumulated_fluence'])\n"
   ]
  },
  {
   "cell_type": "code",
   "execution_count": 2,
   "id": "00eb8ad5",
   "metadata": {
    "scrolled": false
   },
   "outputs": [
    {
     "name": "stderr",
     "output_type": "stream",
     "text": [
      "/Users/alexisdevitre/Documents/code/hts-irradiation/hts_fitfunctions.py:32: RuntimeWarning: invalid value encountered in power\n",
      "  return 2e-7*(i/ic)**n\n",
      "/Users/alexisdevitre/Documents/code/hts-irradiation/hts_fitting.py:289: RuntimeWarning: overflow encountered in scalar power\n",
      "  n, ic = popt[0], vc**(1./popt[0]) / np.exp(popt[1]/popt[0])\n",
      "/Users/alexisdevitre/Documents/code/hts-irradiation/hts_fitting.py:289: RuntimeWarning: overflow encountered in exp\n",
      "  n, ic = popt[0], vc**(1./popt[0]) / np.exp(popt[1]/popt[0])\n",
      "/Users/alexisdevitre/Documents/code/hts-irradiation/hts_fitting.py:289: RuntimeWarning: invalid value encountered in scalar divide\n",
      "  n, ic = popt[0], vc**(1./popt[0]) / np.exp(popt[1]/popt[0])\n",
      "/Users/alexisdevitre/Documents/code/hts-irradiation/hts_fitfunctions.py:32: RuntimeWarning: invalid value encountered in power\n",
      "  return 2e-7*(i/ic)**n\n",
      "/Users/alexisdevitre/anaconda3/lib/python3.11/site-packages/scipy/optimize/_minpack_py.py:1010: OptimizeWarning: Covariance of the parameters could not be estimated\n",
      "  warnings.warn('Covariance of the parameters could not be estimated',\n",
      "/Users/alexisdevitre/Documents/code/hts-irradiation/hts_fitfunctions.py:32: RuntimeWarning: invalid value encountered in power\n",
      "  return 2e-7*(i/ic)**n\n",
      "/Users/alexisdevitre/anaconda3/lib/python3.11/site-packages/scipy/optimize/_minpack_py.py:1010: OptimizeWarning: Covariance of the parameters could not be estimated\n",
      "  warnings.warn('Covariance of the parameters could not be estimated',\n",
      "/Users/alexisdevitre/Documents/code/hts-irradiation/hts_fitfunctions.py:32: RuntimeWarning: invalid value encountered in power\n",
      "  return 2e-7*(i/ic)**n\n",
      "/Users/alexisdevitre/anaconda3/lib/python3.11/site-packages/scipy/optimize/_minpack_py.py:1010: OptimizeWarning: Covariance of the parameters could not be estimated\n",
      "  warnings.warn('Covariance of the parameters could not be estimated',\n",
      "/Users/alexisdevitre/Documents/code/hts-irradiation/hts_fitfunctions.py:32: RuntimeWarning: invalid value encountered in power\n",
      "  return 2e-7*(i/ic)**n\n",
      "/Users/alexisdevitre/anaconda3/lib/python3.11/site-packages/scipy/optimize/_minpack_py.py:1010: OptimizeWarning: Covariance of the parameters could not be estimated\n",
      "  warnings.warn('Covariance of the parameters could not be estimated',\n",
      "/Users/alexisdevitre/Documents/code/hts-irradiation/hts_fitfunctions.py:32: RuntimeWarning: invalid value encountered in power\n",
      "  return 2e-7*(i/ic)**n\n",
      "/Users/alexisdevitre/anaconda3/lib/python3.11/site-packages/scipy/optimize/_minpack_py.py:1010: OptimizeWarning: Covariance of the parameters could not be estimated\n",
      "  warnings.warn('Covariance of the parameters could not be estimated',\n",
      "/Users/alexisdevitre/Documents/code/hts-irradiation/hts_fitfunctions.py:32: RuntimeWarning: invalid value encountered in power\n",
      "  return 2e-7*(i/ic)**n\n",
      "/Users/alexisdevitre/anaconda3/lib/python3.11/site-packages/scipy/optimize/_minpack_py.py:1010: OptimizeWarning: Covariance of the parameters could not be estimated\n",
      "  warnings.warn('Covariance of the parameters could not be estimated',\n",
      "/Users/alexisdevitre/Documents/code/hts-irradiation/hts_fitfunctions.py:32: RuntimeWarning: invalid value encountered in power\n",
      "  return 2e-7*(i/ic)**n\n",
      "/Users/alexisdevitre/anaconda3/lib/python3.11/site-packages/scipy/optimize/_minpack_py.py:1010: OptimizeWarning: Covariance of the parameters could not be estimated\n",
      "  warnings.warn('Covariance of the parameters could not be estimated',\n",
      "/Users/alexisdevitre/Documents/code/hts-irradiation/hts_fitfunctions.py:32: RuntimeWarning: invalid value encountered in power\n",
      "  return 2e-7*(i/ic)**n\n",
      "/Users/alexisdevitre/anaconda3/lib/python3.11/site-packages/scipy/optimize/_minpack_py.py:1010: OptimizeWarning: Covariance of the parameters could not be estimated\n",
      "  warnings.warn('Covariance of the parameters could not be estimated',\n",
      "/Users/alexisdevitre/Documents/code/hts-irradiation/hts_fitfunctions.py:32: RuntimeWarning: invalid value encountered in power\n",
      "  return 2e-7*(i/ic)**n\n",
      "/Users/alexisdevitre/anaconda3/lib/python3.11/site-packages/scipy/optimize/_minpack_py.py:1010: OptimizeWarning: Covariance of the parameters could not be estimated\n",
      "  warnings.warn('Covariance of the parameters could not be estimated',\n"
     ]
    },
    {
     "ename": "ValueError",
     "evalue": "operands could not be broadcast together with shapes (15,) (16,) ",
     "output_type": "error",
     "traceback": [
      "\u001b[0;31m---------------------------------------------------------------------------\u001b[0m",
      "\u001b[0;31mValueError\u001b[0m                                Traceback (most recent call last)",
      "Cell \u001b[0;32mIn[2], line 11\u001b[0m\n\u001b[1;32m      9\u001b[0m data \u001b[38;5;241m=\u001b[39m \u001b[38;5;28;01mNone\u001b[39;00m\n\u001b[1;32m     10\u001b[0m \u001b[38;5;28;01mfor\u001b[39;00m step \u001b[38;5;129;01min\u001b[39;00m steps:\n\u001b[0;32m---> 11\u001b[0m     df \u001b[38;5;241m=\u001b[39m hts\u001b[38;5;241m.\u001b[39mgetIcT([step\u001b[38;5;241m+\u001b[39m\u001b[38;5;124m'\u001b[39m\u001b[38;5;124m/\u001b[39m\u001b[38;5;124m'\u001b[39m\u001b[38;5;241m+\u001b[39m f \u001b[38;5;28;01mfor\u001b[39;00m f \u001b[38;5;129;01min\u001b[39;00m np\u001b[38;5;241m.\u001b[39msort(os\u001b[38;5;241m.\u001b[39mlistdir(step)) \u001b[38;5;28;01mif\u001b[39;00m \u001b[38;5;124m'\u001b[39m\u001b[38;5;124mIc_\u001b[39m\u001b[38;5;124m'\u001b[39m \u001b[38;5;129;01min\u001b[39;00m f])[\u001b[38;5;241m2\u001b[39m]\n\u001b[1;32m     12\u001b[0m     df[\u001b[38;5;124m'\u001b[39m\u001b[38;5;124mcumulated_fluence\u001b[39m\u001b[38;5;124m'\u001b[39m] \u001b[38;5;241m=\u001b[39m fluences\u001b[38;5;241m.\u001b[39mcumulated_fluence\u001b[38;5;241m.\u001b[39mloc[fluences\u001b[38;5;241m.\u001b[39mstep \u001b[38;5;241m==\u001b[39m step]\u001b[38;5;241m.\u001b[39mvalues[\u001b[38;5;241m0\u001b[39m]\n\u001b[1;32m     13\u001b[0m     \u001b[38;5;28;01mif\u001b[39;00m data \u001b[38;5;129;01mis\u001b[39;00m \u001b[38;5;129;01mnot\u001b[39;00m \u001b[38;5;28;01mNone\u001b[39;00m:\n",
      "File \u001b[0;32m~/Documents/code/hts-irradiation/hts_fitting.py:568\u001b[0m, in \u001b[0;36mgetIcT\u001b[0;34m(fpaths, function, fig, label, color, fit, vb)\u001b[0m\n\u001b[1;32m    565\u001b[0m         \u001b[38;5;28;01mif\u001b[39;00m vb: \u001b[38;5;28mprint\u001b[39m(fpath, \u001b[38;5;124m'\u001b[39m\u001b[38;5;130;01m\\n\u001b[39;00m\u001b[38;5;124m'\u001b[39m, e)\n\u001b[1;32m    567\u001b[0m temperatures, ics, ns \u001b[38;5;241m=\u001b[39m np\u001b[38;5;241m.\u001b[39marray(temperatures), np\u001b[38;5;241m.\u001b[39marray(ics), np\u001b[38;5;241m.\u001b[39marray(ns)\n\u001b[0;32m--> 568\u001b[0m cut \u001b[38;5;241m=\u001b[39m (temperatures \u001b[38;5;241m!=\u001b[39m np\u001b[38;5;241m.\u001b[39mnan) \u001b[38;5;241m&\u001b[39m (ics \u001b[38;5;241m!=\u001b[39m np\u001b[38;5;241m.\u001b[39mnan) \u001b[38;5;241m&\u001b[39m (ns \u001b[38;5;241m!=\u001b[39m np\u001b[38;5;241m.\u001b[39mnan)\n\u001b[1;32m    570\u001b[0m \u001b[38;5;28;01mif\u001b[39;00m fit:\n\u001b[1;32m    571\u001b[0m     popt, pcov \u001b[38;5;241m=\u001b[39m curve_fit(ff\u001b[38;5;241m.\u001b[39mcubic, temperatures[cut], ics[cut], ns[cut])\n",
      "\u001b[0;31mValueError\u001b[0m: operands could not be broadcast together with shapes (15,) (16,) "
     ]
    }
   ],
   "source": [
    "tape = 'ffj28'\n",
    "path = '../../fluence/'\n",
    "fpath = [path+f for f in os.listdir(path) if '.DS_Store' not in f][0]\n",
    "\n",
    "fluences = get_fluence_steps(fpath)\n",
    "\n",
    "steps = [str(f) for f in np.sort(os.listdir()) if 'step' in f]\n",
    "\n",
    "data = None\n",
    "for step in steps:\n",
    "    df = hts.getIcT([step+'/'+ f for f in np.sort(os.listdir(step)) if 'Ic_' in f])[2]\n",
    "    df['cumulated_fluence'] = fluences.cumulated_fluence.loc[fluences.step == step].values[0]\n",
    "    if data is not None:\n",
    "        data = pd.concat([data, df], ignore_index=True)\n",
    "    else:\n",
    "        data = df\n",
    "\n",
    "with pd.ExcelWriter('{}-degradation.xlsx'.format(tape), mode='w', engine='openpyxl') as writer:\n",
    "    data.to_excel(writer, sheet_name='all_data', index=False)\n",
    "    \n",
    "bins = np.arange(0.1, 93.6, 0.2)\n",
    "\n",
    "# Create a new column for age groups\n",
    "data['temperature_group'] = pd.cut(data['temperature'], bins=bins, right=False)\n",
    "data = data.drop('fpath', axis=1).groupby(['temperature_group', 'cumulated_fluence']).agg(['mean', 'std', 'count']).dropna()\n",
    "data.columns = ['_'.join(col) for col in data.columns]\n",
    "data.drop(['temperature_count', 'ic_count', 'n_count', 'timeends_mean', 'timeends_std'], axis=1, inplace=True)\n",
    "data.rename(columns={'timeends_count': 'file_count'}, inplace=True)\n",
    "\n",
    "with pd.ExcelWriter('{}-degradation.xlsx'.format(tape), mode='a', engine='openpyxl', if_sheet_exists='new') as writer:\n",
    "    data.reset_index().to_excel(writer, sheet_name='aggregates', index=False)"
   ]
  },
  {
   "cell_type": "code",
   "execution_count": null,
   "id": "d1a1d589",
   "metadata": {},
   "outputs": [],
   "source": []
  }
 ],
 "metadata": {
  "kernelspec": {
   "display_name": "Python 3 (ipykernel)",
   "language": "python",
   "name": "python3"
  },
  "language_info": {
   "codemirror_mode": {
    "name": "ipython",
    "version": 3
   },
   "file_extension": ".py",
   "mimetype": "text/x-python",
   "name": "python",
   "nbconvert_exporter": "python",
   "pygments_lexer": "ipython3",
   "version": "3.11.5"
  }
 },
 "nbformat": 4,
 "nbformat_minor": 5
}
