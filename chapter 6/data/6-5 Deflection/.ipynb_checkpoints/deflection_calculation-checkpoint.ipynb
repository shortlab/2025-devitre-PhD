{
 "cells": [
  {
   "cell_type": "markdown",
   "id": "b5bdb761-402c-4aff-b747-7b3ecc9225af",
   "metadata": {},
   "source": [
    "## Initialization"
   ]
  },
  {
   "cell_type": "code",
   "execution_count": null,
   "id": "687228ec-df8c-4431-8a4a-acc3325ddebc",
   "metadata": {},
   "outputs": [],
   "source": [
    "%matplotlib widget\n",
    "import matplotlib.pyplot as plt\n",
    "import numpy as np\n",
    "\n",
    "import os, sys, pandas as pd\n",
    "\n",
    "sys.path.append('/Users/alexisdevitre/Documents/code/hts-irradiation/')\n",
    "sys.path.append('../../')\n",
    "\n",
    "import hts_fitting as hts, hts_showcase as sc, seaborn as sns, hts_fitfunctions as ff\n",
    "from uncertainties import ufloat\n",
    "from scipy import constants, optimize\n",
    "from scipy.interpolate import interp1d\n",
    "import default_style\n",
    "\n",
    "savedir = '/Users/alexisdevitre/Documents/GitHub/2025-devitre-PhD/chapter 6/figures/raw/'\n",
    "\n",
    "def get_B_field(z=0):\n",
    "    data = pd.read_csv('flux_density_norm_above_tape.txt', sep='\\s+', skiprows=8, names=['y_m', 'field_T'])\n",
    "    data['y_m'] -= data['y_m'].max()\n",
    "    data['y_m'] = data.y_m.abs()\n",
    "    data['field_T'] /= data['field_T'].max()\n",
    "    return interp1d(data.y_m, data.field_T, fill_value=1., bounds_error=False, kind='cubic')(z)"
   ]
  },
  {
   "cell_type": "markdown",
   "id": "c47b2e85-16e3-4667-9864-874f378df6ad",
   "metadata": {},
   "source": [
    "## Computation"
   ]
  },
  {
   "cell_type": "code",
   "execution_count": null,
   "id": "9a511ef7-39b4-4d1f-be9d-c615f387cf85",
   "metadata": {},
   "outputs": [],
   "source": [
    "# Constants\n",
    "q = constants.electron_volt           # Proton charge (C)\n",
    "m = constants.atomic_mass             # Proton mass (kg)\n",
    "initial_energy = 1200e3 * q           # Initial kinetic energy in joules\n",
    "energy_loss_per_m = 100e3 * q / 1e-6  # 100 keV/um in J/m\n",
    "field_start_z = 0                     # Field starts at z0 (downward)\n",
    "tape_start_z = 0.04                   # The particle starts at y = 4 cm above the tape where the field is 1% of the maximum\n",
    "\n",
    "# Initial conditions\n",
    "r = np.array([0.0, 0.0, 0.0])              # Start at z = 0\n",
    "v_mag = np.sqrt(2 * initial_energy / m)\n",
    "v = np.array([0.0, 0.0, v_mag])           # Initial velocity in -z\n",
    "\n",
    "# Time step and max steps\n",
    "max_steps, step, dt = 300000, 1, 1e-14 #1e-14  # s\n",
    "\n",
    "# Preallocate trajectory array\n",
    "trajectory = np.zeros((max_steps, 3))\n",
    "trajectory[0] = r.copy()\n",
    "\n",
    "# Simulation loop\n",
    "kinetic_energies = []\n",
    "while np.linalg.norm(v) > 0 and step < max_steps:\n",
    "\n",
    "    KE = 0.5 * m * np.linalg.norm(v)**2\n",
    "\n",
    "    # Energy loss\n",
    "    dz = v[2] * dt\n",
    "    if r[2] >= tape_start_z:\n",
    "        KE -= energy_loss_per_m * abs(dz)\n",
    "        \n",
    "    if KE <= 0:\n",
    "        break\n",
    "\n",
    "    # Update velocity magnitude\n",
    "    v_mag = np.sqrt(2 * KE / m)\n",
    "    v_dir = v / np.linalg.norm(v)\n",
    "    v = v_mag * v_dir\n",
    "\n",
    "    B = np.array([get_B_field(r[2]), 0.0, 0.0])  # Field in x-direction\n",
    "\n",
    "    # Lorentz force\n",
    "    a = q * np.cross(v, B) / m\n",
    "\n",
    "    # Euler update\n",
    "    v += a * dt\n",
    "    r += v * dt\n",
    "\n",
    "    trajectory[step] = r.copy()\n",
    "    step += 1\n",
    "    #if step%1000 == 0:\n",
    "    #    print(step)\n",
    "    kinetic_energies.append(KE)\n",
    "    \n",
    "# Trim unused part of trajectory\n",
    "trajectory = trajectory[:step]"
   ]
  },
  {
   "cell_type": "markdown",
   "id": "a184b338-ad9b-408e-bf90-d4dcc53c9e90",
   "metadata": {},
   "source": [
    "## Plot"
   ]
  },
  {
   "cell_type": "code",
   "execution_count": null,
   "id": "972055c8-ee6e-473a-987f-43ee1ecd62b8",
   "metadata": {},
   "outputs": [],
   "source": [
    "fig, ax = plt.subplots(2, 1, figsize=(6, 8))\n",
    "\n",
    "ax[0].spines['top'].set_visible(False)\n",
    "ax[0].spines['right'].set_visible(False)\n",
    "ax[1].spines['top'].set_visible(False)\n",
    "ax[1].spines['right'].set_visible(False)\n",
    "\n",
    "x = trajectory[:, 1]*1e6 # m to um\n",
    "y = trajectory[:, 2]*1e2 # m to cm\n",
    "y = np.abs(y-y.max())-(y.max()-4)\n",
    "\n",
    "ax[0].plot(x, y*1e4, linewidth=4, solid_capstyle='round')  # z vs y\n",
    "ax[0].set_xlabel(r'Horizontal deflection [$\\mu$m]')\n",
    "ax[0].set_ylabel(r'Above the surface [$\\mu$m]')\n",
    "ax[0].set_ylim(0, 4e4)\n",
    "ax[0].set_xlim(0, 179.5)\n",
    "\n",
    "ax[1].plot(x, y*1e4, linewidth=4, solid_capstyle='round')  # z vs y\n",
    "ax[1].set_xlabel(r'Horizontal deflection [$\\mu$m]')\n",
    "ax[1].set_ylabel(r'Below the surface [$\\mu$m]')\n",
    "ax[1].set_xlim(179.5, 179.9)\n",
    "ax[1].set_ylim(-13, 0)\n",
    "ax[1].set_yticks([-12, -9, -6, -3, 0])\n",
    "ax[1].set_xticks([179.5, 179.7, 179.9])\n",
    "\n",
    "fig.tight_layout()\n",
    "#plt.savefig(savedir+'deflection.svg', format='svg', transparent=True, dpi=300)"
   ]
  }
 ],
 "metadata": {
  "kernelspec": {
   "display_name": "Python 3 (ipykernel)",
   "language": "python",
   "name": "python3"
  },
  "language_info": {
   "codemirror_mode": {
    "name": "ipython",
    "version": 3
   },
   "file_extension": ".py",
   "mimetype": "text/x-python",
   "name": "python",
   "nbconvert_exporter": "python",
   "pygments_lexer": "ipython3",
   "version": "3.13.5"
  }
 },
 "nbformat": 4,
 "nbformat_minor": 5
}
