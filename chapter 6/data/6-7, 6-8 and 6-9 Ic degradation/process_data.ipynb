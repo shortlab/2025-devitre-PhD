{
 "cells": [
  {
   "cell_type": "code",
   "execution_count": null,
   "id": "bf9207a5-c497-40ad-9fdf-8e5362d254cc",
   "metadata": {},
   "outputs": [],
   "source": [
    "%matplotlib widget\n",
    "import numpy as np\n",
    "import matplotlib.pyplot as plt\n",
    "import os, sys, scipy, pandas as pd, importlib\n",
    "\n",
    "sys.path.append('/Users/alexisdevitre/Documents/code/hts-irradiation/')\n",
    "import hts_fitting as hts, hts_misc as misc, hts_anneal as anneal, hts_showcase as sc\n",
    "importlib.reload(anneal)\n",
    "\n",
    "def get_fluence_steps(fpath):\n",
    "    return pd.read_excel(fpath, sheet_name='fluence_steps', usecols=[0, 1, 2], names=['step', 'step_fluence', 'cumulated_fluence'])\n",
    "\n",
    "def compute_tc_degradation(input_path='input/Tc_degradation.xlsx'):\n",
    "    input_data = pd.read_excel(input_path, sheet_name='input')\n",
    "    fpaths = []\n",
    "    for tape in input_data.tape:\n",
    "        tc, fl, magnet, fpaths, fluences = [], [], [], [], get_fluence_steps([tape+'/fluence/'+f for f in os.listdir(tape+'/fluence/') if 'Proton' in f][0])\n",
    "\n",
    "        for i, row in input_data[input_data.tape == tape].iterrows():\n",
    "            try:\n",
    "                path = '{}/Tc/infield/{}'.format(tape, row.fname)\n",
    "                tc.append(hts.fitTcMeasurement(path, wsz=row.smoothing_window, fit_range=(row.lowerbound_K, row.upperbound_K)))\n",
    "                fl.append(fluences.cumulated_fluence.loc[fluences.step == row.step].values[0])\n",
    "\n",
    "                if 'nomagnet' in path:\n",
    "                    magnet.append(False)\n",
    "                else:\n",
    "                    magnet.append(True)\n",
    "\n",
    "                fpaths.append(path)\n",
    "\n",
    "            except RuntimeError as e:\n",
    "                print(path, '\\n\\n', e)\n",
    "            except ValueError as e:\n",
    "                print(path, '\\n\\n', e)\n",
    "\n",
    "        df = pd.DataFrame({'fpath': fpaths, 'cumulated_fluence': fl, 'magnet': magnet, 'tc': tc})\n",
    "        with pd.ExcelWriter('output/{}-tc_degradation.xlsx'.format(tape), mode='w', engine='openpyxl') as writer:\n",
    "            df.to_excel(writer, sheet_name='all_data', index=False)\n",
    "\n",
    "def compute_ic_degradation(tapes, bins=None, function='powerLaw'):\n",
    "    \n",
    "    fluence = get_fluence_steps([tape+'/fluence/'+f for f in os.listdir(tape+'/fluence/') if 'Proton' in f][0])\n",
    "    \n",
    "    steps = [str(f) for f in np.sort(os.listdir(tape+'/Ic/infield')) if 'step' in f]\n",
    "    \n",
    "    data = None\n",
    "    for step in steps:\n",
    "        for magnet in ['magnet', 'no magnet']:\n",
    "            path = tape + '/Ic/infield/' + step + '/{}/'.format(magnet)\n",
    "            df = hts.getIcT([path+f for f in np.sort(os.listdir(path)) if 'Ic_' in f], function=function)[2]\n",
    "            df['cumulated_fluence'] = fluence.cumulated_fluence.loc[fluence.step == step].values[0]\n",
    "            \n",
    "            if magnet == 'magnet':\n",
    "                df['magnet'] = True\n",
    "            else:\n",
    "                df['magnet'] = False\n",
    "                \n",
    "            if data is not None:\n",
    "                data = pd.concat([data, df], ignore_index=True)\n",
    "            else:\n",
    "                data = df\n",
    "                \n",
    "    with pd.ExcelWriter('output/{}-ic_degradation.xlsx'.format(tape), mode='w', engine='openpyxl') as writer:\n",
    "        data.to_excel(writer, sheet_name='all_data', index=False)\n",
    "\n",
    "    # aggregate data\n",
    "    if bins is None:\n",
    "        data['temperature_group'] = pd.cut(data['temperature'], bins=np.arange(0.3, 93.6, 0.2), right=False)\n",
    "    else:\n",
    "        data['temperature_group'] = pd.cut(data['temperature'], bins=bins, right=False)\n",
    "\n",
    "    data = data.drop('fpath', axis=1).groupby(['temperature_group', 'cumulated_fluence', 'magnet']).agg(['mean', 'std', 'count']).dropna()\n",
    "    data.columns = ['_'.join(col) for col in data.columns]\n",
    "    data.drop(['temperature_count', 'ic_count', 'n_count', 'timeends_mean', 'timeends_std'], axis=1, inplace=True)\n",
    "    data.rename(columns={'timeends_count': 'file_count'}, inplace=True)\n",
    "    with pd.ExcelWriter('output/{}-ic_degradation.xlsx'.format(tape), mode='a', engine='openpyxl', if_sheet_exists='new') as writer:\n",
    "        data.reset_index().to_excel(writer, sheet_name='aggregates', index=False)\n"
   ]
  },
  {
   "cell_type": "code",
   "execution_count": 7,
   "id": "9f7a6701",
   "metadata": {},
   "outputs": [
    {
     "name": "stderr",
     "output_type": "stream",
     "text": [
      "/Users/alexisdevitre/Documents/code/hts-irradiation/hts_fitfunctions.py:38: RuntimeWarning: invalid value encountered in power\n",
      "  return 2e-7*(i/ic)**n\n",
      "/Users/alexisdevitre/Documents/code/hts-irradiation/hts_fitfunctions.py:38: RuntimeWarning: invalid value encountered in power\n",
      "  return 2e-7*(i/ic)**n\n",
      "/Users/alexisdevitre/Documents/code/hts-irradiation/hts_fitting.py:317: OptimizeWarning: Covariance of the parameters could not be estimated\n",
      "  popt, pcov = curve_fit(ff.linear, ccut, vcut)\n",
      "/Users/alexisdevitre/Documents/code/hts-irradiation/hts_fitting.py:317: OptimizeWarning: Covariance of the parameters could not be estimated\n",
      "  popt, pcov = curve_fit(ff.linear, ccut, vcut)\n",
      "/var/folders/jl/4_5mv35x3wb9cccz5qcc6vmc0000gn/T/ipykernel_94421/1833376415.py:33: FutureWarning: The default of observed=False is deprecated and will be changed to True in a future version of pandas. Pass observed=False to retain current behavior or observed=True to adopt the future default and silence this warning.\n",
      "  data = data.drop('fpath', axis=1).groupby(['temperature_group', 'cumulated_fluence', 'magnet']).agg(['mean', 'std', 'count']).dropna()\n"
     ]
    }
   ],
   "source": [
    "compute_ic_degradation('ext_ffj51')"
   ]
  }
 ],
 "metadata": {
  "kernelspec": {
   "display_name": "Python 3 (ipykernel)",
   "language": "python",
   "name": "python3"
  },
  "language_info": {
   "codemirror_mode": {
    "name": "ipython",
    "version": 3
   },
   "file_extension": ".py",
   "mimetype": "text/x-python",
   "name": "python",
   "nbconvert_exporter": "python",
   "pygments_lexer": "ipython3",
   "version": "3.13.5"
  }
 },
 "nbformat": 4,
 "nbformat_minor": 5
}
