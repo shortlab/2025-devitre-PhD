{
 "cells": [
  {
   "cell_type": "code",
   "execution_count": 2,
   "id": "fe6ef087",
   "metadata": {},
   "outputs": [
    {
     "name": "stdout",
     "output_type": "stream",
     "text": [
      "%pylab is deprecated, use %matplotlib inline and import the required libraries.\n",
      "Populating the interactive namespace from numpy and matplotlib\n"
     ]
    }
   ],
   "source": [
    "%pylab notebook\n",
    "from scipy import constants"
   ]
  },
  {
   "cell_type": "code",
   "execution_count": 5,
   "id": "bae8754e",
   "metadata": {},
   "outputs": [
    {
     "name": "stdout",
     "output_type": "stream",
     "text": [
      "2.37e+16 protons/m2s\n",
      " 1.8 h\n"
     ]
    }
   ],
   "source": [
    "ibeam = 30        # nA\n",
    "dcoll = 3.175e-3 # m\n",
    "\n",
    "flux = ibeam*1e-9/(constants.elementary_charge*constants.pi*(dcoll/2)**2)\n",
    "\n",
    "print('{:4.2e} protons/m2s'.format(flux))\n",
    "print('{:4.1f} h'.format(1.5e20/(3600*flux)))"
   ]
  },
  {
   "cell_type": "code",
   "execution_count": 17,
   "id": "1e2030d3",
   "metadata": {},
   "outputs": [
    {
     "name": "stdout",
     "output_type": "stream",
     "text": [
      "1.24e+00 mW\n"
     ]
    }
   ],
   "source": [
    "e, se, i, si = 1200, 10, 30, 1\n",
    "\n",
    "sp = e*i*np.sqrt((se/e)**2+(si/i)**2)*1e-3\n",
    "\n",
    "print('{:4.2e} mW'.format(sp))"
   ]
  },
  {
   "cell_type": "code",
   "execution_count": 15,
   "id": "65d747a8",
   "metadata": {},
   "outputs": [
    {
     "data": {
      "text/plain": [
       "36000"
      ]
     },
     "execution_count": 15,
     "metadata": {},
     "output_type": "execute_result"
    }
   ],
   "source": [
    "1200*30"
   ]
  },
  {
   "cell_type": "code",
   "execution_count": null,
   "id": "0846e4ae",
   "metadata": {},
   "outputs": [],
   "source": []
  }
 ],
 "metadata": {
  "kernelspec": {
   "display_name": "Python 3 (ipykernel)",
   "language": "python",
   "name": "python3"
  },
  "language_info": {
   "codemirror_mode": {
    "name": "ipython",
    "version": 3
   },
   "file_extension": ".py",
   "mimetype": "text/x-python",
   "name": "python",
   "nbconvert_exporter": "python",
   "pygments_lexer": "ipython3",
   "version": "3.11.5"
  }
 },
 "nbformat": 4,
 "nbformat_minor": 5
}
