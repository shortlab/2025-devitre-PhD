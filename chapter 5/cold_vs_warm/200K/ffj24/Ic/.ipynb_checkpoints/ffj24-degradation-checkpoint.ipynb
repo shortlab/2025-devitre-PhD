{
 "cells": [
  {
   "cell_type": "code",
   "execution_count": 1,
   "id": "13b59550",
   "metadata": {},
   "outputs": [
    {
     "name": "stdout",
     "output_type": "stream",
     "text": [
      "%pylab is deprecated, use %matplotlib inline and import the required libraries.\n",
      "Populating the interactive namespace from numpy and matplotlib\n"
     ]
    }
   ],
   "source": [
    "%pylab notebook\n",
    "\n",
    "import os, sys, pandas as pd\n",
    "sys.path.append('/Users/alexisdevitre/Documents/code/hts-irradiation/')\n",
    "\n",
    "import hts_fitting as hts\n",
    "import hts_showcase as sc\n",
    "\n",
    "def get_fluence_steps(fpath):\n",
    "    return pd.read_excel(fpath, sheet_name='fluence_steps', usecols=[0, 1, 2], names=['step', 'step_fluence', 'cumulated_fluence'])\n"
   ]
  },
  {
   "cell_type": "code",
   "execution_count": 2,
   "id": "00eb8ad5",
   "metadata": {
    "scrolled": false
   },
   "outputs": [
    {
     "ename": "FileNotFoundError",
     "evalue": "[Errno 2] No such file or directory: '../../fluence/'",
     "output_type": "error",
     "traceback": [
      "\u001b[0;31m---------------------------------------------------------------------------\u001b[0m",
      "\u001b[0;31mFileNotFoundError\u001b[0m                         Traceback (most recent call last)",
      "Cell \u001b[0;32mIn[2], line 3\u001b[0m\n\u001b[1;32m      1\u001b[0m tape \u001b[38;5;241m=\u001b[39m \u001b[38;5;124m'\u001b[39m\u001b[38;5;124mffj24\u001b[39m\u001b[38;5;124m'\u001b[39m\n\u001b[1;32m      2\u001b[0m path \u001b[38;5;241m=\u001b[39m \u001b[38;5;124m'\u001b[39m\u001b[38;5;124m../../fluence/\u001b[39m\u001b[38;5;124m'\u001b[39m\n\u001b[0;32m----> 3\u001b[0m fpath \u001b[38;5;241m=\u001b[39m [path\u001b[38;5;241m+\u001b[39mf \u001b[38;5;28;01mfor\u001b[39;00m f \u001b[38;5;129;01min\u001b[39;00m os\u001b[38;5;241m.\u001b[39mlistdir(path) \u001b[38;5;28;01mif\u001b[39;00m \u001b[38;5;124m'\u001b[39m\u001b[38;5;124m.DS_Store\u001b[39m\u001b[38;5;124m'\u001b[39m \u001b[38;5;129;01mnot\u001b[39;00m \u001b[38;5;129;01min\u001b[39;00m f][\u001b[38;5;241m0\u001b[39m]\n\u001b[1;32m      5\u001b[0m fluences \u001b[38;5;241m=\u001b[39m get_fluence_steps(fpath)\n\u001b[1;32m      7\u001b[0m steps \u001b[38;5;241m=\u001b[39m [\u001b[38;5;28mstr\u001b[39m(f) \u001b[38;5;28;01mfor\u001b[39;00m f \u001b[38;5;129;01min\u001b[39;00m np\u001b[38;5;241m.\u001b[39msort(os\u001b[38;5;241m.\u001b[39mlistdir()) \u001b[38;5;28;01mif\u001b[39;00m \u001b[38;5;124m'\u001b[39m\u001b[38;5;124mstep\u001b[39m\u001b[38;5;124m'\u001b[39m \u001b[38;5;129;01min\u001b[39;00m f]\n",
      "\u001b[0;31mFileNotFoundError\u001b[0m: [Errno 2] No such file or directory: '../../fluence/'"
     ]
    }
   ],
   "source": [
    "tape = 'ffj24'\n",
    "path = '../../fluence/'\n",
    "fpath = [path+f for f in os.listdir(path) if '.DS_Store' not in f][0]\n",
    "\n",
    "fluences = get_fluence_steps(fpath)\n",
    "\n",
    "steps = [str(f) for f in np.sort(os.listdir()) if 'step' in f]\n",
    "\n",
    "data = None\n",
    "for step in steps:\n",
    "    df = hts.getIcT([step+'/'+ f for f in np.sort(os.listdir(step)) if 'Ic_' in f])[2]\n",
    "    df['cumulated_fluence'] = fluences.cumulated_fluence.loc[fluences.step == step].values[0]\n",
    "    if data is not None:\n",
    "        data = pd.concat([data, df], ignore_index=True)\n",
    "    else:\n",
    "        data = df\n",
    "\n",
    "with pd.ExcelWriter('{}-degradation.xlsx'.format(tape), mode='w', engine='openpyxl') as writer:\n",
    "    data.to_excel(writer, sheet_name='all_data', index=False)\n",
    "    \n",
    "bins = [25.7, 26, 79, 80]\n",
    "\n",
    "# Create a new column for age groups\n",
    "data['temperature_group'] = pd.cut(data['temperature'], bins=bins, right=False)\n",
    "data = data.drop('fpath', axis=1).groupby(['temperature_group', 'cumulated_fluence']).agg(['mean', 'std', 'count']).dropna()\n",
    "data.columns = ['_'.join(col) for col in data.columns]\n",
    "data.drop(['temperature_count', 'ic_count', 'n_count', 'timeends_mean', 'timeends_std'], axis=1, inplace=True)\n",
    "data.rename(columns={'timeends_count': 'file_count'}, inplace=True)\n",
    "\n",
    "with pd.ExcelWriter('{}-degradation.xlsx'.format(tape), mode='a', engine='openpyxl', if_sheet_exists='new') as writer:\n",
    "    data.reset_index().to_excel(writer, sheet_name='aggregates', index=False)"
   ]
  },
  {
   "cell_type": "code",
   "execution_count": null,
   "id": "d1a1d589",
   "metadata": {},
   "outputs": [],
   "source": []
  }
 ],
 "metadata": {
  "kernelspec": {
   "display_name": "Python 3 (ipykernel)",
   "language": "python",
   "name": "python3"
  },
  "language_info": {
   "codemirror_mode": {
    "name": "ipython",
    "version": 3
   },
   "file_extension": ".py",
   "mimetype": "text/x-python",
   "name": "python",
   "nbconvert_exporter": "python",
   "pygments_lexer": "ipython3",
   "version": "3.11.5"
  }
 },
 "nbformat": 4,
 "nbformat_minor": 5
}
