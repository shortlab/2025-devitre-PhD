{
 "cells": [
  {
   "cell_type": "code",
   "execution_count": 2,
   "id": "5f6154c9",
   "metadata": {},
   "outputs": [
    {
     "name": "stdout",
     "output_type": "stream",
     "text": [
      "%pylab is deprecated, use %matplotlib inline and import the required libraries.\n",
      "Populating the interactive namespace from numpy and matplotlib\n"
     ]
    }
   ],
   "source": [
    "%pylab notebook\n",
    "\n",
    "import os, sys, warnings, pandas as pd\n",
    "sys.path.append('/Users/alexisdevitre/Documents/code/hts-irradiation/')\n",
    "\n",
    "import hts_fitting as hts\n",
    "import hts_showcase as sc\n",
    "\n",
    "#from scipy.optimize import OptimizeWarning\n",
    "\n",
    "#warnings.simplefilter(\"ignore\", RuntimeWarning)\n",
    "#warnings.simplefilter(\"ignore\", OptimizeWarning)"
   ]
  },
  {
   "cell_type": "code",
   "execution_count": 6,
   "id": "8fb4a9f9",
   "metadata": {},
   "outputs": [
    {
     "data": {
      "text/plain": [
       "['./Tc_2023-12-18_21-55-46974635_ffj33-step00-dn.txt',\n",
       " './Tc_2023-12-19_06-42-01119631_ffj33-step00-up.txt',\n",
       " './Tc_2023-12-19_13-15-00730117_ffj33-step01-dn.txt',\n",
       " './Tc_2023-12-19_18-51-03976427_ffj33-step02-dn.txt']"
      ]
     },
     "execution_count": 6,
     "metadata": {},
     "output_type": "execute_result"
    }
   ],
   "source": [
    "fpaths"
   ]
  },
  {
   "cell_type": "code",
   "execution_count": null,
   "id": "46046aee",
   "metadata": {},
   "outputs": [],
   "source": []
  }
 ],
 "metadata": {
  "kernelspec": {
   "display_name": "Python 3 (ipykernel)",
   "language": "python",
   "name": "python3"
  },
  "language_info": {
   "codemirror_mode": {
    "name": "ipython",
    "version": 3
   },
   "file_extension": ".py",
   "mimetype": "text/x-python",
   "name": "python",
   "nbconvert_exporter": "python",
   "pygments_lexer": "ipython3",
   "version": "3.11.5"
  }
 },
 "nbformat": 4,
 "nbformat_minor": 5
}
